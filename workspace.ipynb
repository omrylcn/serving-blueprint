{
 "cells": [
  {
   "cell_type": "code",
   "execution_count": null,
   "metadata": {},
   "outputs": [],
   "source": [
    "%load_ext autoreload\n",
    "%autoreload 2\n",
    "\n",
    "# from app.config import settings\n",
    "# from celery import Celery\n",
    "# from app.service import demo_process\n",
    "from PIL import Image\n",
    "import io \n",
    "import numpy as np\n",
    "import requests\n",
    "import random \n",
    "from celery import Celery\n",
    "from src.core.config import settings\n",
    "from src.core.config.main import load_ml_settings\n",
    "from src.api.route import style_transfer_celery_app,style_transfer_task_lib\n",
    "#from src.workers.style_transfer_workers import celery_app, style_transfer_task_lib,style_transfer_task_info"
   ]
  },
  {
   "cell_type": "code",
   "execution_count": 9,
   "metadata": {},
   "outputs": [],
   "source": [
    "import os \n",
    "\n"
   ]
  },
  {
   "cell_type": "code",
   "execution_count": 10,
   "metadata": {},
   "outputs": [],
   "source": [
    "os.environ[\"MODEL_KEY\"] = \"candy_v1\""
   ]
  },
  {
   "cell_type": "code",
   "execution_count": null,
   "metadata": {},
   "outputs": [],
   "source": [
    "!celery -A src.workers.worker_factory.celery_app worker"
   ]
  },
  {
   "cell_type": "code",
   "execution_count": null,
   "metadata": {},
   "outputs": [],
   "source": [
    "url = \"http://127.0.0.1:8000/api/v1/style_transfer\"\n",
    "\n",
    "# Query parameters\n",
    "params = {\n",
    "    \"model_name\": \"rain-princess\",\n",
    "    \"model_mode\": 2\n",
    "}\n",
    "\n",
    "# File to upload\n",
    "files = {\n",
    "    'file': ('amber.jpg', open('data/amber.jpg', 'rb'), 'image/jpeg')\n",
    "}\n",
    "\n",
    "response = requests.post(url, params=params, files=files)\n",
    "\n",
    "response_json = response.json()\n",
    "\n",
    "# Print response\n",
    "print(response_json)"
   ]
  },
  {
   "cell_type": "code",
   "execution_count": 42,
   "metadata": {},
   "outputs": [],
   "source": [
    "result_id = response_json['result_id']\n",
    "\n",
    "response = requests.get(f'http://127.0.0.1:8000/result/{result_id}')\n",
    "with open(\"image.png\", \"wb\") as f:\n",
    "    f.write(response.content)\n",
    "\n",
    "# response = requests.get(f'http://127.0.0.1:8000/result/{result_id}')\n",
    "\n",
    "# # Create a BytesIO object - this acts like a file in memory\n",
    "# image_bytes = io.BytesIO(response.content)\n",
    "\n",
    "# # Now open the image using PIL - this will work because BytesIO is file-like\n",
    "# pil_image = Image.open(image_bytes)\n",
    "\n",
    "# # Convert to numpy array\n",
    "# image_array = np.array(pil_image)"
   ]
  },
  {
   "cell_type": "code",
   "execution_count": 20,
   "metadata": {},
   "outputs": [],
   "source": [
    "task_0 = style_transfer_task_lib[0]\n",
    "task_1  = style_transfer_task_lib[1]\n",
    "task_2 = style_transfer_task_lib[2]"
   ]
  },
  {
   "cell_type": "code",
   "execution_count": 27,
   "metadata": {},
   "outputs": [],
   "source": [
    "celery_app = Celery('model_tasks', broker=settings.RABBITMQ_URL, backend=settings.REDIS_URL)\n",
    "model_name = \"candy\"\n",
    "\n",
    "@celery_app.task(name=f\"task_{model_name}\", queue=f\"task_{model_name}_queue\")\n",
    "def dynamic_task(image_bytes: bytes) -> str:\n",
    "\n",
    "    res = image_process(image_bytes)\n",
    "    return res"
   ]
  },
  {
   "cell_type": "code",
   "execution_count": 31,
   "metadata": {},
   "outputs": [],
   "source": [
    "@celery_app.task(name=f\"task_{model_name}\", queue=f\"task_{model_name}_queue\")\n",
    "def dynamic_task(image_bytes: bytes) -> str:\n",
    "    return f\"task_{model_name}\""
   ]
  },
  {
   "cell_type": "code",
   "execution_count": null,
   "metadata": {},
   "outputs": [],
   "source": [
    "from celery.apps.worker import Worker\n",
    "from src.workers.style_transfer_workers import create_worker_task\n",
    "from src.core.config import settings\n",
    "from src.ml.style_transfer_service import ImageService\n",
    "import socket\n",
    "\n",
    "def start_style_transfer_worker(model_name: str, model_number: int, model_path: str):\n",
    "    # First, we initialize our image service\n",
    "    style_transfer_service = ImageService(model_path=model_path)\n",
    "    \n",
    "    # Create our worker task and get the Celery app instance\n",
    "    worker_task, celery_app = create_worker_task(\n",
    "        settings,\n",
    "        model_name,\n",
    "        model_number,\n",
    "        style_transfer_service\n",
    "    )\n",
    "    \n",
    "    # Configure worker options - these determine how our worker will behave\n",
    "    worker_options = {\n",
    "        'queues': [f\"task_{model_name}_queue\"],\n",
    "        'loglevel': 'INFO',\n",
    "        'concurrency': 1,\n",
    "        'hostname': f\"{model_name}-worker@{socket.gethostname()}\"\n",
    "    }\n",
    "    \n",
    "    # Create and start the worker using the application's worker method\n",
    "    worker = celery_app.Worker(**worker_options)\n",
    "    \n",
    "    try:\n",
    "        worker.start()\n",
    "    except (KeyboardInterrupt, SystemExit):\n",
    "        print(\"Shutting down worker gracefully...\")\n",
    "        worker.stop()\n",
    "\n",
    "if __name__ == \"__main__\":\n",
    "    model_type = \"style_transfer\"\n",
    "    model_path = \"models/candy-8.onnx\"\n",
    "    \n",
    "    start_style_transfer_worker(\"candy\", 0, model_path)"
   ]
  },
  {
   "cell_type": "code",
   "execution_count": 31,
   "metadata": {},
   "outputs": [],
   "source": []
  },
  {
   "cell_type": "code",
   "execution_count": null,
   "metadata": {},
   "outputs": [],
   "source": [
    "for i in range(500):\n",
    "    i = random.randint(0, 2)\n",
    "    \n",
    "    # Query parameters\n",
    "    params = {\n",
    "        \"model_name\": \"53\",\n",
    "        \"model_mode\": 0\n",
    "    }\n",
    "\n",
    "    # File to upload\n",
    "    files = {\n",
    "        'file': ('1.JPG', open('1.JPG', 'rb'), 'image/jpeg')\n",
    "    }\n",
    "\n",
    "    response = requests.post(url, params=params, files=files)\n",
    "\n",
    "    # Print response\n",
    "    print(response.json())"
   ]
  },
  {
   "cell_type": "markdown",
   "metadata": {},
   "source": []
  }
 ],
 "metadata": {
  "kernelspec": {
   "display_name": "uv",
   "language": "python",
   "name": "python3"
  },
  "language_info": {
   "codemirror_mode": {
    "name": "ipython",
    "version": 3
   },
   "file_extension": ".py",
   "mimetype": "text/x-python",
   "name": "python",
   "nbconvert_exporter": "python",
   "pygments_lexer": "ipython3",
   "version": "3.11.5"
  }
 },
 "nbformat": 4,
 "nbformat_minor": 2
}
